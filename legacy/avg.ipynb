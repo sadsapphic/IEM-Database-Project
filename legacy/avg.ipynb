{
 "cells": [
  {
   "cell_type": "code",
   "execution_count": 25,
   "metadata": {},
   "outputs": [],
   "source": [
    "import pandas as pd\n",
    "\n",
    "# Paths\n",
    "vari_super_s1 = 'Measurements/vari_super_s1.csv'\n",
    "vari_super_s2 = 'Measurements/vari_super_s2.csv'\n",
    "vari_precog_s1 = 'Measurements/vari_precog_s1.csv'\n",
    "vari_precog_s2 = 'Measurements/vari_precog_s2.csv'\n",
    "vari_precog_s3 = 'Measurements/vari_precog_s3.csv'\n",
    "vari_nymz = 'Measurements/vari_nymz.csv'\n",
    "vari_hobbytalk_stock = 'Measurements/vari_hobbytalk_stock.csv'\n",
    "vari_hbb = 'Measurements/vari_hbb.csv'\n",
    "vari_harpo = 'Measurements/vari_harpo.csv'\n",
    "vari_gizaudio = 'Measurements/vari_gizaudio.csv'\n",
    "vari_crinacle = 'Measurements/vari_crinacle.csv'\n",
    "vari_aftersound = 'Measurements/vari_aftersound.csv'\n",
    "CammyFi = 'Measurements/CammyFi.csv'\n",
    "BryAudioReviews = 'Measurements/BryAudioReviews.csv'\n",
    "Vari_105dBC = 'Measurements/Vari_105dBC.csv'\n",
    "Vari_85dBC = 'Measurements/Vari_85dBC.csv'\n",
    "Vari_77dBC = 'Measurements/Vari_77dBC.csv'\n",
    "Moondrop_Measurement_Official = 'Measurements/Moondrop_Measurement_Official.csv'\n",
    "\n",
    "# A list of all the paths to the csv files\n",
    "csv_paths = [vari_super_s1, vari_super_s2, vari_precog_s1, vari_precog_s2, vari_precog_s3, vari_nymz, vari_hobbytalk_stock, vari_hbb, vari_harpo, vari_gizaudio, vari_crinacle, vari_aftersound, CammyFi, BryAudioReviews, Vari_105dBC, Vari_85dBC, Vari_77dBC, Moondrop_Measurement_Official]\n",
    "\n",
    "# Loop through each csv file and read it into a pandas dataframe\n",
    "for path in csv_paths:\n",
    "    df = pd.read_csv(path)\n",
    "    \n",
    "    # Merge the data from each file into the combined_data dataframe\n",
    "    combined_data = pd.concat([combined_data, df], ignore_index=True)\n",
    "    \n",
    "# Group the data by frequency and calculate the average values for each group\n",
    "grouped_data = combined_data.groupby(['X']).mean()\n",
    "\n",
    "grouped_data\n",
    "\n",
    "grouped_data.to_csv('Measurements/combined_data.csv')\n",
    "    \n",
    "\n",
    "\n",
    "\n"
   ]
  }
 ],
 "metadata": {
  "kernelspec": {
   "display_name": "base",
   "language": "python",
   "name": "python3"
  },
  "language_info": {
   "codemirror_mode": {
    "name": "ipython",
    "version": 3
   },
   "file_extension": ".py",
   "mimetype": "text/x-python",
   "name": "python",
   "nbconvert_exporter": "python",
   "pygments_lexer": "ipython3",
   "version": "3.9.13"
  },
  "orig_nbformat": 4
 },
 "nbformat": 4,
 "nbformat_minor": 2
}
