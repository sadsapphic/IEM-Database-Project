{
 "cells": [
  {
   "cell_type": "code",
   "execution_count": 17,
   "metadata": {},
   "outputs": [],
   "source": [
    "import pandas as pd\n",
    "import pyodbc\n",
    "\n",
    "# Replace these with your actual credentials and server details\n",
    "server = 'HAPPY-PC\\SQLEXPRESS'\n",
    "database = 'headphones'\n",
    "username = 'victor'\n",
    "password = 'super'\n",
    "csv_file = 'Measurements/BryAudioReviews.csv'\n",
    "table_name = 'BryAudioReviews'\n",
    "\n",
    "# Connect to the MS SQL server\n",
    "connection_string = f'DRIVER={{ODBC Driver 17 for SQL Server}};SERVER={server};DATABASE={database};UID={username};PWD={password}'\n",
    "conn = pyodbc.connect(connection_string)\n",
    "cursor = conn.cursor()\n",
    "\n",
    "# Read the CSV file using pandas\n",
    "df = pd.read_csv(csv_file)\n",
    "\n",
    "# Create the table schema\n",
    "create_table_sql = f\"CREATE TABLE {table_name} (\"\n",
    "\n",
    "for col_name, col_type in zip(df.columns, df.dtypes):\n",
    "    sql_type = 'NVARCHAR(MAX)'\n",
    "\n",
    "    if col_type == 'int64':\n",
    "        sql_type = 'INT'\n",
    "    elif col_type == 'float64':\n",
    "        sql_type = 'FLOAT'\n",
    "\n",
    "    create_table_sql += f\"[{col_name}] {sql_type},\"\n",
    "\n",
    "create_table_sql = create_table_sql.rstrip(',') + ')'\n",
    "\n",
    "# Execute the statement to create the table\n",
    "cursor.execute(create_table_sql)\n",
    "conn.commit()\n",
    "\n",
    "# Generate the INSERT statement\n",
    "insert_sql = f\"INSERT INTO {table_name} ({', '.join(df.columns)}) VALUES ({', '.join(['?' for _ in df.columns])})\"\n",
    "\n",
    "# Insert each row from the DataFrame into the table\n",
    "for _, row in df.iterrows():\n",
    "    cursor.execute(insert_sql, tuple(row))\n",
    "\n",
    "conn.commit()\n",
    "\n",
    "# Close the database connection\n",
    "cursor.close()\n",
    "conn.close()\n"
   ]
  }
 ],
 "metadata": {
  "kernelspec": {
   "display_name": "base",
   "language": "python",
   "name": "python3"
  },
  "language_info": {
   "codemirror_mode": {
    "name": "ipython",
    "version": 3
   },
   "file_extension": ".py",
   "mimetype": "text/x-python",
   "name": "python",
   "nbconvert_exporter": "python",
   "pygments_lexer": "ipython3",
   "version": "3.9.16"
  },
  "orig_nbformat": 4
 },
 "nbformat": 4,
 "nbformat_minor": 2
}
